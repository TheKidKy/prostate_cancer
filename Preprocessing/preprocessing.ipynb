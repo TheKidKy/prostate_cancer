{
 "cells": [
  {
   "cell_type": "code",
   "execution_count": 2,
   "id": "491ec10e",
   "metadata": {},
   "outputs": [],
   "source": [
    "import pandas as pd\n",
    "import numpy as np"
   ]
  },
  {
   "cell_type": "code",
   "execution_count": 3,
   "id": "20886f2e",
   "metadata": {},
   "outputs": [],
   "source": [
    "df = pd.read_csv('prostate_cancer_prediction.csv')"
   ]
  },
  {
   "cell_type": "code",
   "execution_count": null,
   "id": "6e11b637",
   "metadata": {},
   "outputs": [
    {
     "name": "stdout",
     "output_type": "stream",
     "text": [
      "   Patient_ID  Age Family_History Race_African_Ancestry  PSA_Level DRE_Result  \\\n",
      "0           1   78             No                   Yes       5.07     Normal   \n",
      "1           2   68             No                   Yes      10.24     Normal   \n",
      "2           3   54             No                    No      13.79     Normal   \n",
      "3           4   82             No                    No       8.03   Abnormal   \n",
      "4           5   47            Yes                    No       1.89     Normal   \n",
      "\n",
      "  Biopsy_Result Difficulty_Urinating Weak_Urine_Flow Blood_in_Urine  ...  \\\n",
      "0        Benign                   No              No             No  ...   \n",
      "1        Benign                  Yes              No             No  ...   \n",
      "2        Benign                   No              No             No  ...   \n",
      "3        Benign                   No              No             No  ...   \n",
      "4     Malignant                  Yes             Yes             No  ...   \n",
      "\n",
      "  Alcohol_Consumption Hypertension Diabetes Cholesterol_Level Screening_Age  \\\n",
      "0            Moderate           No       No            Normal            45   \n",
      "1                 Low           No       No              High            65   \n",
      "2                 Low           No       No            Normal            61   \n",
      "3                 Low           No       No            Normal            47   \n",
      "4            Moderate          Yes       No            Normal            72   \n",
      "\n",
      "  Follow_Up_Required Prostate_Volume Genetic_Risk_Factors  \\\n",
      "0                 No            46.0                   No   \n",
      "1                 No            78.2                   No   \n",
      "2                 No            21.1                   No   \n",
      "3                Yes            79.9                   No   \n",
      "4                 No            32.0                   No   \n",
      "\n",
      "   Previous_Cancer_History Early_Detection  \n",
      "0                       No             Yes  \n",
      "1                       No             Yes  \n",
      "2                       No             Yes  \n",
      "3                      Yes             Yes  \n",
      "4                       No             Yes  \n",
      "\n",
      "[5 rows x 30 columns]\n",
      "<class 'pandas.core.frame.DataFrame'>\n",
      "RangeIndex: 27945 entries, 0 to 27944\n",
      "Data columns (total 30 columns):\n",
      " #   Column                   Non-Null Count  Dtype  \n",
      "---  ------                   --------------  -----  \n",
      " 0   Patient_ID               27945 non-null  int64  \n",
      " 1   Age                      27945 non-null  int64  \n",
      " 2   Family_History           27945 non-null  object \n",
      " 3   Race_African_Ancestry    27945 non-null  object \n",
      " 4   PSA_Level                27945 non-null  float64\n",
      " 5   DRE_Result               27945 non-null  object \n",
      " 6   Biopsy_Result            27945 non-null  object \n",
      " 7   Difficulty_Urinating     27945 non-null  object \n",
      " 8   Weak_Urine_Flow          27945 non-null  object \n",
      " 9   Blood_in_Urine           27945 non-null  object \n",
      " 10  Pelvic_Pain              27945 non-null  object \n",
      " 11  Back_Pain                27945 non-null  object \n",
      " 12  Erectile_Dysfunction     27945 non-null  object \n",
      " 13  Cancer_Stage             27945 non-null  object \n",
      " 14  Treatment_Recommended    27945 non-null  object \n",
      " 15  Survival_5_Years         27945 non-null  object \n",
      " 16  Exercise_Regularly       27945 non-null  object \n",
      " 17  Healthy_Diet             27945 non-null  object \n",
      " 18  BMI                      27945 non-null  float64\n",
      " 19  Smoking_History          27945 non-null  object \n",
      " 20  Alcohol_Consumption      27945 non-null  object \n",
      " 21  Hypertension             27945 non-null  object \n",
      " 22  Diabetes                 27945 non-null  object \n",
      " 23  Cholesterol_Level        27945 non-null  object \n",
      " 24  Screening_Age            27945 non-null  int64  \n",
      " 25  Follow_Up_Required       27945 non-null  object \n",
      " 26  Prostate_Volume          27945 non-null  float64\n",
      " 27  Genetic_Risk_Factors     27945 non-null  object \n",
      " 28  Previous_Cancer_History  27945 non-null  object \n",
      " 29  Early_Detection          27945 non-null  object \n",
      "dtypes: float64(3), int64(3), object(24)\n",
      "memory usage: 6.4+ MB\n",
      "None\n",
      "         Patient_ID           Age     PSA_Level           BMI  Screening_Age  \\\n",
      "count  27945.000000  27945.000000  27945.000000  27945.000000   27945.000000   \n",
      "mean   13973.000000     64.459939      7.751599     26.511605      56.902308   \n",
      "std     8067.170973     14.404755      4.175012      4.888293      10.118064   \n",
      "min        1.000000     40.000000      0.500000     18.000000      40.000000   \n",
      "25%     6987.000000     52.000000      4.130000     22.300000      48.000000   \n",
      "50%    13973.000000     64.000000      7.750000     26.500000      57.000000   \n",
      "75%    20959.000000     77.000000     11.320000     30.700000      66.000000   \n",
      "max    27945.000000     89.000000     15.000000     35.000000      74.000000   \n",
      "\n",
      "       Prostate_Volume  \n",
      "count     27945.000000  \n",
      "mean         47.755770  \n",
      "std          18.704286  \n",
      "min          15.000000  \n",
      "25%          31.700000  \n",
      "50%          47.700000  \n",
      "75%          63.900000  \n",
      "max          80.000000  \n"
     ]
    }
   ],
   "source": [
    "print(df.head()) \n",
    "\n",
    "print(df.info())\n",
    "\n",
    "print(df.describe())"
   ]
  },
  {
   "cell_type": "code",
   "execution_count": null,
   "id": "55d5f331",
   "metadata": {},
   "outputs": [
    {
     "name": "stdout",
     "output_type": "stream",
     "text": [
      "Patient_ID                 0\n",
      "Age                        0\n",
      "Family_History             0\n",
      "Race_African_Ancestry      0\n",
      "PSA_Level                  0\n",
      "DRE_Result                 0\n",
      "Biopsy_Result              0\n",
      "Difficulty_Urinating       0\n",
      "Weak_Urine_Flow            0\n",
      "Blood_in_Urine             0\n",
      "Pelvic_Pain                0\n",
      "Back_Pain                  0\n",
      "Erectile_Dysfunction       0\n",
      "Cancer_Stage               0\n",
      "Treatment_Recommended      0\n",
      "Survival_5_Years           0\n",
      "Exercise_Regularly         0\n",
      "Healthy_Diet               0\n",
      "BMI                        0\n",
      "Smoking_History            0\n",
      "Alcohol_Consumption        0\n",
      "Hypertension               0\n",
      "Diabetes                   0\n",
      "Cholesterol_Level          0\n",
      "Screening_Age              0\n",
      "Follow_Up_Required         0\n",
      "Prostate_Volume            0\n",
      "Genetic_Risk_Factors       0\n",
      "Previous_Cancer_History    0\n",
      "Early_Detection            0\n",
      "dtype: int64\n"
     ]
    }
   ],
   "source": [
    "print(df.isnull().sum())\n"
   ]
  },
  {
   "cell_type": "code",
   "execution_count": 6,
   "id": "ed1a5efd",
   "metadata": {},
   "outputs": [],
   "source": [
    "df = df.dropna()"
   ]
  },
  {
   "cell_type": "code",
   "execution_count": 7,
   "id": "1ebe6693",
   "metadata": {},
   "outputs": [
    {
     "name": "stdout",
     "output_type": "stream",
     "text": [
      "(27945, 30)\n"
     ]
    }
   ],
   "source": [
    "print(df.shape)"
   ]
  },
  {
   "cell_type": "code",
   "execution_count": 12,
   "id": "947748bd",
   "metadata": {},
   "outputs": [
    {
     "name": "stdout",
     "output_type": "stream",
     "text": [
      "0\n"
     ]
    }
   ],
   "source": [
    "print(df.duplicated().sum()) \n"
   ]
  },
  {
   "cell_type": "code",
   "execution_count": 27,
   "id": "64c91a3a",
   "metadata": {},
   "outputs": [
    {
     "data": {
      "text/plain": [
       "Patient_ID                   int64\n",
       "Age                          int64\n",
       "Family_History              object\n",
       "Race_African_Ancestry       object\n",
       "PSA_Level                  float64\n",
       "DRE_Result                  object\n",
       "Biopsy_Result               object\n",
       "Difficulty_Urinating        object\n",
       "Weak_Urine_Flow             object\n",
       "Blood_in_Urine              object\n",
       "Pelvic_Pain                 object\n",
       "Back_Pain                   object\n",
       "Erectile_Dysfunction        object\n",
       "Cancer_Stage                object\n",
       "Treatment_Recommended       object\n",
       "Survival_5_Years            object\n",
       "Exercise_Regularly          object\n",
       "Healthy_Diet                object\n",
       "BMI                        float64\n",
       "Smoking_History             object\n",
       "Alcohol_Consumption         object\n",
       "Hypertension                object\n",
       "Diabetes                    object\n",
       "Cholesterol_Level           object\n",
       "Screening_Age                int64\n",
       "Follow_Up_Required          object\n",
       "Prostate_Volume            float64\n",
       "Genetic_Risk_Factors        object\n",
       "Previous_Cancer_History     object\n",
       "Early_Detection             object\n",
       "dtype: object"
      ]
     },
     "execution_count": 27,
     "metadata": {},
     "output_type": "execute_result"
    }
   ],
   "source": [
    "df.dtypes"
   ]
  },
  {
   "cell_type": "code",
   "execution_count": null,
   "id": "63802ed2",
   "metadata": {},
   "outputs": [],
   "source": []
  }
 ],
 "metadata": {
  "kernelspec": {
   "display_name": "Python 3",
   "language": "python",
   "name": "python3"
  },
  "language_info": {
   "codemirror_mode": {
    "name": "ipython",
    "version": 3
   },
   "file_extension": ".py",
   "mimetype": "text/x-python",
   "name": "python",
   "nbconvert_exporter": "python",
   "pygments_lexer": "ipython3",
   "version": "3.13.8"
  }
 },
 "nbformat": 4,
 "nbformat_minor": 5
}
